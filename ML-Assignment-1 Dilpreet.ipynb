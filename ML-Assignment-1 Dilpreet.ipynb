{
  "nbformat": 4,
  "nbformat_minor": 0,
  "metadata": {
    "colab": {
      "name": "Untitled0.ipynb",
      "provenance": []
    },
    "kernelspec": {
      "name": "python3",
      "display_name": "Python 3"
    },
    "language_info": {
      "name": "python"
    }
  },
  "cells": [
    {
      "cell_type": "code",
      "metadata": {
        "colab": {
          "base_uri": "https://localhost:8080/"
        },
        "id": "Dj6muVex_3mK",
        "outputId": "bd5640d4-dcb0-4054-d936-923433143017"
      },
      "source": [
        "from datetime import datetime\n",
        "name=input(\"Enter your Name:\")\n",
        "age=int(input(\"Enter your Age:\"))\n",
        "var=int((100-age)+datetime.now().year)\n",
        "print('Hi %s. Your age is %s. You will turn 100 in the year %s' %(name,age,var))\n",
        "\n",
        "num=int(input(\"Enter the number of times you want to print the message:\"))\n",
        "for x in range(num):\n",
        "  print('Hi %s. Your age is %s. You will turn 100 in the year %s' %(name,age,var))\n",
        "\n",
        "num=int(input(\"Enter the number of times you want to print the message with line spacing:\"))\n",
        "for x in range(num):\n",
        "  print('Hi %s. Your age is %s. You will turn 100 in the year %s \\n' %(name,age,var))"
      ],
      "execution_count": 1,
      "outputs": [
        {
          "output_type": "stream",
          "text": [
            "Enter your Name:Dilpreet Singh\n",
            "Enter your Age:22\n",
            "Hi Dilpreet Singh. Your age is 22. You will turn 100 in the year 2099\n",
            "Enter the number of times you want to print the message:5\n",
            "Hi Dilpreet Singh. Your age is 22. You will turn 100 in the year 2099\n",
            "Hi Dilpreet Singh. Your age is 22. You will turn 100 in the year 2099\n",
            "Hi Dilpreet Singh. Your age is 22. You will turn 100 in the year 2099\n",
            "Hi Dilpreet Singh. Your age is 22. You will turn 100 in the year 2099\n",
            "Hi Dilpreet Singh. Your age is 22. You will turn 100 in the year 2099\n",
            "Enter the number of times you want to print the message with line spacing:3\n",
            "Hi Dilpreet Singh. Your age is 22. You will turn 100 in the year 2099 \n",
            "\n",
            "Hi Dilpreet Singh. Your age is 22. You will turn 100 in the year 2099 \n",
            "\n",
            "Hi Dilpreet Singh. Your age is 22. You will turn 100 in the year 2099 \n",
            "\n"
          ],
          "name": "stdout"
        }
      ]
    },
    {
      "cell_type": "code",
      "metadata": {
        "colab": {
          "base_uri": "https://localhost:8080/"
        },
        "id": "0OMItdrVAV6U",
        "outputId": "31a2e35f-0b82-4a16-df24-1003ca8b2a15"
      },
      "source": [
        "a= [1,1,2,3,5,8,13,21,34,55,89]\n",
        "b=[]\n",
        "for x in a:\n",
        "  if x<5:\n",
        "    b.append(x)\n",
        "print(b)"
      ],
      "execution_count": 2,
      "outputs": [
        {
          "output_type": "stream",
          "text": [
            "[1, 1, 2, 3]\n"
          ],
          "name": "stdout"
        }
      ]
    },
    {
      "cell_type": "code",
      "metadata": {
        "colab": {
          "base_uri": "https://localhost:8080/"
        },
        "id": "qXjDObZXAkwf",
        "outputId": "fe921872-a0b1-41cb-ceb9-49a21024b6bd"
      },
      "source": [
        "[print(x) for x in b]"
      ],
      "execution_count": 3,
      "outputs": [
        {
          "output_type": "stream",
          "text": [
            "1\n",
            "1\n",
            "2\n",
            "3\n"
          ],
          "name": "stdout"
        },
        {
          "output_type": "execute_result",
          "data": {
            "text/plain": [
              "[None, None, None, None]"
            ]
          },
          "metadata": {
            "tags": []
          },
          "execution_count": 3
        }
      ]
    },
    {
      "cell_type": "code",
      "metadata": {
        "colab": {
          "base_uri": "https://localhost:8080/"
        },
        "id": "IiKBv6laArJ3",
        "outputId": "e64dd65e-d402-423a-ff41-3576dcd35451"
      },
      "source": [
        "number2=int(input(\"Enter the number:\"))\n",
        "for x in a:\n",
        "  if x<number2:\n",
        "    print(x)"
      ],
      "execution_count": 4,
      "outputs": [
        {
          "output_type": "stream",
          "text": [
            "Enter the number:10\n",
            "1\n",
            "1\n",
            "2\n",
            "3\n",
            "5\n",
            "8\n"
          ],
          "name": "stdout"
        }
      ]
    },
    {
      "cell_type": "code",
      "metadata": {
        "colab": {
          "base_uri": "https://localhost:8080/"
        },
        "id": "gXmtUSuJBKKA",
        "outputId": "c7cb406d-aeb8-421c-abdd-a15f3d83b137"
      },
      "source": [
        "def fibo(n):\n",
        "  if n<=1:\n",
        "    return n\n",
        "  else:\n",
        "      return(fibo(n-1)+fibo(n-2))\n",
        "\n",
        "terms=int(input(\"Number of terms\"))\n",
        "if terms<=0:\n",
        "  print(\"Enter a positive interger\")\n",
        "else:\n",
        "  print(\"fibonacci Series\")\n",
        "  for i in range(terms):\n",
        "    print(fibo(i))"
      ],
      "execution_count": 9,
      "outputs": [
        {
          "output_type": "stream",
          "text": [
            "Number of terms7\n",
            "fibonacci Series\n",
            "0\n",
            "1\n",
            "1\n",
            "2\n",
            "3\n",
            "5\n",
            "8\n"
          ],
          "name": "stdout"
        }
      ]
    },
    {
      "cell_type": "code",
      "metadata": {
        "colab": {
          "base_uri": "https://localhost:8080/"
        },
        "id": "_j6W7tefAzEr",
        "outputId": "a756b35f-32cc-4ab8-9c69-e05bc4d13401"
      },
      "source": [
        "list1 = [1,1,2,3,5,8,13,3,5,6,1]\n",
        "list2=[]\n",
        "for i in list1:\n",
        "  if i not in list2:\n",
        "    list2.append(i)\n",
        "\n",
        "print(\"The original list is\" + str(list1))\n",
        "print(\"New list without duplicates is\" + str(list2))\n",
        "\n"
      ],
      "execution_count": 5,
      "outputs": [
        {
          "output_type": "stream",
          "text": [
            "The original list is[1, 1, 2, 3, 5, 8, 13, 3, 5, 6, 1]\n",
            "New list without duplicates is[1, 2, 3, 5, 8, 13, 6]\n"
          ],
          "name": "stdout"
        }
      ]
    },
    {
      "cell_type": "code",
      "metadata": {
        "colab": {
          "base_uri": "https://localhost:8080/"
        },
        "id": "0r9dRArmA1si",
        "outputId": "c3a5a1fc-c455-4025-8e82-6f503ba4b93b"
      },
      "source": [
        "list1 = [1,1,2,3,5,8,13,3,5,6,1]\n",
        "def func(list1):\n",
        "  list3=[]\n",
        "  for i in list1:\n",
        "    if  i not in list3:\n",
        "      list3.append(i)\n",
        "  print(\"New list is\" +str(list3))\n",
        "\n",
        "func(list1)\n"
      ],
      "execution_count": 6,
      "outputs": [
        {
          "output_type": "stream",
          "text": [
            "New list is[1, 2, 3, 5, 8, 13, 6]\n"
          ],
          "name": "stdout"
        }
      ]
    },
    {
      "cell_type": "code",
      "metadata": {
        "colab": {
          "base_uri": "https://localhost:8080/"
        },
        "id": "8Y7W2HioA5mO",
        "outputId": "d5179afd-1f10-42d8-c04a-cfaf2acb139f"
      },
      "source": [
        "def func2(list1):\n",
        "  newlist=list(set(list1))\n",
        "  print(\"New List\" +str(newlist))\n",
        "\n",
        "func2(list1)"
      ],
      "execution_count": 7,
      "outputs": [
        {
          "output_type": "stream",
          "text": [
            "New List[1, 2, 3, 5, 6, 8, 13]\n"
          ],
          "name": "stdout"
        }
      ]
    },
    {
      "cell_type": "code",
      "metadata": {
        "colab": {
          "base_uri": "https://localhost:8080/"
        },
        "id": "eLuk7GF3A_t6",
        "outputId": "cd0d9898-0d19-4b3b-b9b4-096e5d3adc7d"
      },
      "source": [
        "num=int(input(\"Enter the number that you want to check\"))\n",
        "\n",
        "def Prime(num1):\n",
        "  flag= False\n",
        "  if num1>1:\n",
        "    for i in range(2,num1):\n",
        "      if(num1%i) ==0:\n",
        "        flag =True\n",
        "        break\n",
        "  if flag:\n",
        "    print(\"%s is not prime\" %(num1))\n",
        "  else:\n",
        "    print(\"%s in prime\" %(num1))\n",
        "\n",
        "Prime(num)"
      ],
      "execution_count": 8,
      "outputs": [
        {
          "output_type": "stream",
          "text": [
            "Enter the number that you want to check7\n",
            "7 in prime\n"
          ],
          "name": "stdout"
        }
      ]
    }
  ]
}